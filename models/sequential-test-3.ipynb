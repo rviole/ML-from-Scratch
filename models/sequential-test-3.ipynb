{
 "cells": [
  {
   "cell_type": "markdown",
   "metadata": {},
   "source": [
    "The sequential Dense NN but now you don't need to calculate derivates  or optimizer parameters by hand. You just need to specify number of layers and that's all.\n",
    "\n",
    "### NO ACTIVATION"
   ]
  },
  {
   "cell_type": "code",
   "execution_count": 187,
   "metadata": {},
   "outputs": [],
   "source": [
    "import numpy as np\n",
    "from utils import MSE\n",
    "\n",
    "np.random.seed(42)"
   ]
  },
  {
   "cell_type": "code",
   "execution_count": null,
   "metadata": {},
   "outputs": [],
   "source": [
    "class Dense:\n",
    "\n",
    "    def __init__(self, units: int, activation=\"linear\"):\n",
    "        self.units: int = units\n",
    "        self.w = None\n",
    "        self.b = None\n",
    "        self.initialized = False\n",
    "        self.activation = activation\n",
    "\n",
    "    def initialize_params(self, input_dim):\n",
    "\n",
    "        self.w = np.random.rand(self.units, input_dim)\n",
    "        self.b = np.random.rand(self.units)\n",
    "        self.initialized = True\n",
    "\n",
    "    def forward(self, X):\n",
    "\n",
    "        if not self.initialized:\n",
    "            raise ValueError(\"Initiate params first\")\n",
    "        X = np.asarray(X)\n",
    "        y = np.dot(X, self.w.T) + self.b\n",
    "\n",
    "        return y\n",
    "\n",
    "\n",
    "class Input:\n",
    "    def __init__(self, units):\n",
    "        self.units = units"
   ]
  }
 ],
 "metadata": {
  "kernelspec": {
   "display_name": "venv",
   "language": "python",
   "name": "python3"
  },
  "language_info": {
   "codemirror_mode": {
    "name": "ipython",
    "version": 3
   },
   "file_extension": ".py",
   "mimetype": "text/x-python",
   "name": "python",
   "nbconvert_exporter": "python",
   "pygments_lexer": "ipython3",
   "version": "3.12.3"
  }
 },
 "nbformat": 4,
 "nbformat_minor": 2
}
