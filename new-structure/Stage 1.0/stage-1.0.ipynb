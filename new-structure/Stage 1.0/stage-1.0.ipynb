{
 "cells": [
  {
   "cell_type": "markdown",
   "id": "0686135e",
   "metadata": {},
   "source": [
    "# Stage 1.0"
   ]
  },
  {
   "cell_type": "code",
   "execution_count": 1,
   "id": "36cd6fb8",
   "metadata": {},
   "outputs": [],
   "source": [
    "import numpy as np\n",
    "import matplotlib.pyplot as plt"
   ]
  },
  {
   "cell_type": "code",
   "execution_count": 2,
   "id": "1f1de512",
   "metadata": {},
   "outputs": [],
   "source": [
    "np.random.seed(42)"
   ]
  },
  {
   "cell_type": "code",
   "execution_count": 6,
   "id": "83239c7b",
   "metadata": {},
   "outputs": [],
   "source": [
    "N_SAMPLES = 100\n",
    "N_INPUT_FEATURES = 1\n",
    "N_OUTPUT_FEATURES = 1\n"
   ]
  },
  {
   "cell_type": "code",
   "execution_count": 20,
   "id": "abce13c6",
   "metadata": {},
   "outputs": [],
   "source": [
    "w_random = np.random.rand() * 100 - 50 # range = [-50, 50)\n",
    "b_random = np.random.rand() * 100 - 50 # range = [-50, 50)\n",
    "\n",
    "X = np.random.normal(loc=0, scale=1, size=(N_SAMPLES, N_INPUT_FEATURES))\n",
    "y = X * w_random + b_random"
   ]
  },
  {
   "cell_type": "code",
   "execution_count": null,
   "id": "5c50a9bd",
   "metadata": {},
   "outputs": [],
   "source": []
  }
 ],
 "metadata": {
  "kernelspec": {
   "display_name": "venv",
   "language": "python",
   "name": "python3"
  },
  "language_info": {
   "codemirror_mode": {
    "name": "ipython",
    "version": 3
   },
   "file_extension": ".py",
   "mimetype": "text/x-python",
   "name": "python",
   "nbconvert_exporter": "python",
   "pygments_lexer": "ipython3",
   "version": "3.12.3"
  }
 },
 "nbformat": 4,
 "nbformat_minor": 5
}
