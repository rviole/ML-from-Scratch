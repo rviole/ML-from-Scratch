{
 "cells": [
  {
   "cell_type": "code",
   "execution_count": 10,
   "id": "4dec5ac7",
   "metadata": {},
   "outputs": [],
   "source": [
    "import numpy as np"
   ]
  },
  {
   "cell_type": "code",
   "execution_count": 11,
   "id": "53433d62",
   "metadata": {},
   "outputs": [
    {
     "name": "stdout",
     "output_type": "stream",
     "text": [
      "X:\n",
      " [[1. 2.]\n",
      " [3. 4.]\n",
      " [5. 6.]]\n",
      "\n",
      "y:\n",
      " [[ 4.5]\n",
      " [ 9.5]\n",
      " [14.5]]\n",
      "\n",
      "y_pred:\n",
      " [[ 5.]\n",
      " [10.]\n",
      " [15.]]\n"
     ]
    }
   ],
   "source": [
    "# Define X\n",
    "X = np.array([[1, 2], [3, 4], [5, 6]], dtype=np.float32)\n",
    "\n",
    "# Generate y using the function\n",
    "y = np.array([x[0] * 0.5 + 2 * x[1] for x in X])\n",
    "y_pred = np.array([5., 10., 15.])\n",
    "\n",
    "y = np.reshape(y, shape=(-1, 1))\n",
    "y_pred = np.reshape(y_pred, shape=(-1, 1))\n",
    "\n",
    "print(\"X:\\n\", X)\n",
    "print(\"\\ny:\\n\", y)\n",
    "print(\"\\ny_pred:\\n\", y_pred)"
   ]
  },
  {
   "cell_type": "code",
   "execution_count": 12,
   "id": "333f7ce3",
   "metadata": {},
   "outputs": [
    {
     "data": {
      "text/plain": [
       "array([[0.5],\n",
       "       [0.5],\n",
       "       [0.5]])"
      ]
     },
     "execution_count": 12,
     "metadata": {},
     "output_type": "execute_result"
    }
   ],
   "source": [
    "errors = y_pred - y\n",
    "errors"
   ]
  },
  {
   "cell_type": "code",
   "execution_count": 13,
   "id": "f600f77a",
   "metadata": {},
   "outputs": [],
   "source": [
    "def relu_derivative(X):\n",
    "    X = np.asarray(X)\n",
    "    return (X > 0).astype(np.float32)\n",
    "\n",
    "\n",
    "def get_gradient(y_pred, y, X, z):\n",
    "    \"\"\"\n",
    "    Parameters:\n",
    "    - y_pred (numpy.ndarray): Predicted values, shape [n_samples, 1].\n",
    "    - y (numpy.ndarray): True values, shape [n_samples, 1].\n",
    "    - X (numpy.ndarray): Input features, shape [n_samples, n_features].\n",
    "    - z (numpy.ndarray): Linear combination of inputs and weights (X * W.T + b), shape [n_samples, 1].\n",
    "    \"\"\"\n",
    "    errors = y_pred - y                 # [n_samples, 1]\n",
    "    loss_gradient = 2 / len(X) * errors # Gradient of MSE wrt prediction: [n_samples, 1]\n",
    "    relu_mask = relu_derivative(z)\n",
    "    upstream_gradient = loss_gradient * relu_mask  # Contains Stop gradients where ReLU is zero: [n_samples, 1]\n",
    "    \n",
    "    \n",
    "    w_gradient = upstream_gradient.T @ X # [n_units, n_inputs ]\n",
    "    b_gradient = np.sum(upstream_gradient)\n",
    "    return w_gradient, b_gradient"
   ]
  },
  {
   "cell_type": "code",
   "execution_count": 14,
   "id": "9df4e135",
   "metadata": {},
   "outputs": [
    {
     "data": {
      "text/plain": [
       "(array([[3., 4.]]), np.float64(1.0))"
      ]
     },
     "execution_count": 14,
     "metadata": {},
     "output_type": "execute_result"
    }
   ],
   "source": [
    "get_gradient(y_pred, y, X, y_pred)"
   ]
  },
  {
   "cell_type": "code",
   "execution_count": 15,
   "id": "80410d25",
   "metadata": {},
   "outputs": [
    {
     "data": {
      "text/plain": [
       "array([[0.33333333, 0.33333333, 0.33333333]])"
      ]
     },
     "execution_count": 15,
     "metadata": {},
     "output_type": "execute_result"
    }
   ],
   "source": [
    "dL_dy_hat = 2/len(X) * errors\n",
    "dL_dy_hat.T"
   ]
  },
  {
   "cell_type": "code",
   "execution_count": 16,
   "id": "5c0deb32",
   "metadata": {},
   "outputs": [
    {
     "data": {
      "text/plain": [
       "array([[1., 2.],\n",
       "       [3., 4.],\n",
       "       [5., 6.]], dtype=float32)"
      ]
     },
     "execution_count": 16,
     "metadata": {},
     "output_type": "execute_result"
    }
   ],
   "source": [
    "X"
   ]
  },
  {
   "cell_type": "code",
   "execution_count": 17,
   "id": "a9c02dc9",
   "metadata": {},
   "outputs": [
    {
     "data": {
      "text/plain": [
       "array([[3., 4.]])"
      ]
     },
     "execution_count": 17,
     "metadata": {},
     "output_type": "execute_result"
    }
   ],
   "source": [
    "dL_dy_hat.T @ X"
   ]
  }
 ],
 "metadata": {
  "kernelspec": {
   "display_name": "venv",
   "language": "python",
   "name": "python3"
  },
  "language_info": {
   "codemirror_mode": {
    "name": "ipython",
    "version": 3
   },
   "file_extension": ".py",
   "mimetype": "text/x-python",
   "name": "python",
   "nbconvert_exporter": "python",
   "pygments_lexer": "ipython3",
   "version": "3.12.3"
  }
 },
 "nbformat": 4,
 "nbformat_minor": 5
}
